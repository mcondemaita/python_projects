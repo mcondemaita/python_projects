{
  "nbformat": 4,
  "nbformat_minor": 0,
  "metadata": {
    "colab": {
      "name": "Funtions.ipynb",
      "provenance": [],
      "authorship_tag": "ABX9TyOvWUn4wkLdUMyLw+W6vBUm",
      "include_colab_link": true
    },
    "kernelspec": {
      "name": "python3",
      "display_name": "Python 3"
    },
    "language_info": {
      "name": "python"
    }
  },
  "cells": [
    {
      "cell_type": "markdown",
      "metadata": {
        "id": "view-in-github",
        "colab_type": "text"
      },
      "source": [
        "<a href=\"https://colab.research.google.com/github/mcondemaita/python_projects/blob/main/Funtions.ipynb\" target=\"_parent\"><img src=\"https://colab.research.google.com/assets/colab-badge.svg\" alt=\"Open In Colab\"/></a>"
      ]
    },
    {
      "cell_type": "markdown",
      "source": [
        "Len of that secuase or collection "
      ],
      "metadata": {
        "id": "hqsucL7VBJBx"
      }
    },
    {
      "cell_type": "code",
      "execution_count": null,
      "metadata": {
        "colab": {
          "base_uri": "https://localhost:8080/"
        },
        "id": "euYv3IHZAurc",
        "outputId": "8849d751-533d-4aba-dc23-1247715f1a9f"
      },
      "outputs": [
        {
          "output_type": "execute_result",
          "data": {
            "text/plain": [
              "10"
            ]
          },
          "metadata": {},
          "execution_count": 14
        }
      ],
      "source": [
        "album_ratings = [1,3,2,4,6,5,7,8,8,10]\n",
        "L=len(album_ratings)\n",
        "L"
      ]
    },
    {
      "cell_type": "code",
      "source": [
        "#SUM\n",
        "L=sum(album_ratings)\n",
        "L"
      ],
      "metadata": {
        "colab": {
          "base_uri": "https://localhost:8080/"
        },
        "id": "2hmyAvvGBs0a",
        "outputId": "7e1c8b3e-599b-4736-eb18-5dd9061605e9"
      },
      "execution_count": null,
      "outputs": [
        {
          "output_type": "execute_result",
          "data": {
            "text/plain": [
              "54"
            ]
          },
          "metadata": {},
          "execution_count": 15
        }
      ]
    },
    {
      "cell_type": "code",
      "source": [
        "len([sum([0,0,1])])"
      ],
      "metadata": {
        "colab": {
          "base_uri": "https://localhost:8080/"
        },
        "id": "Dth-3gLjCJL2",
        "outputId": "71cd160f-1392-4fcd-84f4-10c93c64bcd8"
      },
      "execution_count": null,
      "outputs": [
        {
          "output_type": "execute_result",
          "data": {
            "text/plain": [
              "1"
            ]
          },
          "metadata": {},
          "execution_count": 16
        }
      ]
    },
    {
      "cell_type": "code",
      "source": [
        "#sorted vs sort \n",
        "sorted_album_ratings = sorted(album_ratings)\n",
        "sorted_album_ratings # new list was created "
      ],
      "metadata": {
        "colab": {
          "base_uri": "https://localhost:8080/"
        },
        "id": "k7LPGSp-CbD6",
        "outputId": "742b8113-6825-4306-b428-3061c92050e2"
      },
      "execution_count": null,
      "outputs": [
        {
          "output_type": "execute_result",
          "data": {
            "text/plain": [
              "[1, 2, 3, 4, 5, 6, 7, 8, 8, 10]"
            ]
          },
          "metadata": {},
          "execution_count": 17
        }
      ]
    },
    {
      "cell_type": "code",
      "source": [
        "album_ratings.sort() \n",
        "album_ratings #data was tranform on itself "
      ],
      "metadata": {
        "colab": {
          "base_uri": "https://localhost:8080/"
        },
        "id": "CsK3ghP1Ep-M",
        "outputId": "9a61bc9a-c5d9-40d0-b1da-82c57cfcd0b3"
      },
      "execution_count": null,
      "outputs": [
        {
          "output_type": "execute_result",
          "data": {
            "text/plain": [
              "[1, 2, 3, 4, 5, 6, 7, 8, 8, 10]"
            ]
          },
          "metadata": {},
          "execution_count": 19
        }
      ]
    },
    {
      "cell_type": "code",
      "source": [
        "L=[1,3,2]\n",
        "sorted(L)\n",
        "L #sorted is a funtion *& returns a new list, it does not change the linst L"
      ],
      "metadata": {
        "colab": {
          "base_uri": "https://localhost:8080/"
        },
        "id": "hy1tp2drCugs",
        "outputId": "9af3f293-13af-4a4e-a5d0-1f7ad7fb1a66"
      },
      "execution_count": null,
      "outputs": [
        {
          "output_type": "execute_result",
          "data": {
            "text/plain": [
              "[1, 3, 2]"
            ]
          },
          "metadata": {},
          "execution_count": 11
        }
      ]
    },
    {
      "cell_type": "code",
      "source": [
        "##Create our own funtions\n",
        "\n",
        "def add1(a):\n",
        "  \"\"\" add 1 to a \"\"\"\n",
        "  b=a+1\n",
        "  print(a, \"plus 1 equals\", b)\n",
        "  #return b\n",
        "\n",
        "a = 3\n",
        "add1(a)\n",
        "\n",
        "\n"
      ],
      "metadata": {
        "id": "vb0QVpBSGB6m",
        "colab": {
          "base_uri": "https://localhost:8080/"
        },
        "outputId": "f023b691-00d9-4407-9eaf-ac7f4a76e3aa"
      },
      "execution_count": 42,
      "outputs": [
        {
          "output_type": "stream",
          "name": "stdout",
          "text": [
            "3 plus 1 equals 4\n"
          ]
        }
      ]
    },
    {
      "cell_type": "code",
      "source": [
        "def Mult(a,b):\n",
        "  c = a*b #a will be the number of multiplication on b\n",
        "  return c\n",
        "\n",
        "Mult(5, \"Maria \" + \"Conde\" \", \") #this could cause a proble bec of int and string \n"
      ],
      "metadata": {
        "id": "T0tSmWzwHLln",
        "colab": {
          "base_uri": "https://localhost:8080/",
          "height": 37
        },
        "outputId": "448302c2-91b1-42ec-a582-6f45c63f1740"
      },
      "execution_count": 27,
      "outputs": [
        {
          "output_type": "execute_result",
          "data": {
            "application/vnd.google.colaboratory.intrinsic+json": {
              "type": "string"
            },
            "text/plain": [
              "'Maria Conde, Maria Conde, Maria Conde, Maria Conde, Maria Conde, '"
            ]
          },
          "metadata": {},
          "execution_count": 27
        }
      ]
    },
    {
      "cell_type": "code",
      "source": [
        "def nowork():\n",
        "  pass ##if it doent have return statment \n",
        "print(nowork())"
      ],
      "metadata": {
        "colab": {
          "base_uri": "https://localhost:8080/"
        },
        "id": "CGjHWZ2_Hf47",
        "outputId": "c57f9e58-bc5f-4d71-9e77-7abcc4419a68"
      },
      "execution_count": 28,
      "outputs": [
        {
          "output_type": "stream",
          "name": "stdout",
          "text": [
            "None\n"
          ]
        }
      ]
    },
    {
      "cell_type": "markdown",
      "source": [
        "Include Loop in a funtion "
      ],
      "metadata": {
        "id": "szhuk1UHrBhz"
      }
    },
    {
      "cell_type": "code",
      "source": [
        "album_ratings = [10.2, 5.3, 9.9] #list \n",
        "Stuff_(album_ratings) #call the funtion loop \n",
        "\n",
        "def Stuff_(Stuff):\n",
        "  for i, a in enumerate(Stuff): #the i value will pass to a for a new dataframe \n",
        "    print(\"Index\", i, \"Rating is\", a)\n",
        "\n",
        "   "
      ],
      "metadata": {
        "colab": {
          "base_uri": "https://localhost:8080/"
        },
        "id": "4Q_p6kt-rG0G",
        "outputId": "404a2e95-cc58-4d36-a963-2f9690b76c9e"
      },
      "execution_count": 54,
      "outputs": [
        {
          "output_type": "stream",
          "name": "stdout",
          "text": [
            "Index 0 Rating is 10.2\n",
            "Index 1 Rating is 5.3\n",
            "Index 2 Rating is 9.9\n"
          ]
        }
      ]
    },
    {
      "cell_type": "code",
      "source": [
        "def Print(A):\n",
        "  for a in A: \n",
        "    print(a + '1')\n",
        "    \n",
        "Print(['a','b','c'])"
      ],
      "metadata": {
        "colab": {
          "base_uri": "https://localhost:8080/"
        },
        "id": "UYQ0JA1kIFg-",
        "outputId": "d669b83d-532f-427a-8dc9-20c87f90d21d"
      },
      "execution_count": null,
      "outputs": [
        {
          "output_type": "stream",
          "name": "stdout",
          "text": [
            "a1\n",
            "b1\n",
            "c1\n"
          ]
        }
      ]
    },
    {
      "cell_type": "code",
      "source": [
        "#Collecting arguments * to call all elements \n",
        "\n",
        "def collect(*names):\n",
        "  for name in names:\n",
        "    print(\"The Artis Name is: \", name)\n",
        "\n",
        "ArtistNames = [\"Maria\", \"Conde\", \"Analyst\",\n",
        "\"Dora\", \"Samanta\", \"Accounting\"]\n",
        "collect(ArtistNames) #call the funtion "
      ],
      "metadata": {
        "colab": {
          "base_uri": "https://localhost:8080/"
        },
        "id": "h0oFWklGt7U9",
        "outputId": "be57e942-8d9f-4844-b739-4fff56f869a2"
      },
      "execution_count": 80,
      "outputs": [
        {
          "output_type": "stream",
          "name": "stdout",
          "text": [
            "The Artis Name is:  ['Maria', 'Conde', 'Analyst', 'Dora', 'Samanta', 'Accounting']\n"
          ]
        }
      ]
    },
    {
      "cell_type": "code",
      "source": [
        "x = [1,4,8]\n",
        "#print(x)\n",
        "\n",
        "def add1(X):\n",
        "  for x in X:\n",
        "    print(x + 1)\n"
      ],
      "metadata": {
        "id": "TlVqAs95drSK"
      },
      "execution_count": 74,
      "outputs": []
    },
    {
      "cell_type": "code",
      "source": [
        "album_ratings = [10,50,90]\n",
        "printStuff(album_ratings)\n",
        "\n",
        "def album_retings(Stuff): #funtion \n",
        "  for i,s in enumerate(Stuff):\n",
        "    print('Album', i, 'Rating is', s)"
      ],
      "metadata": {
        "colab": {
          "base_uri": "https://localhost:8080/"
        },
        "id": "tUeIRL9CIoRx",
        "outputId": "c235c606-8c71-43f6-88b4-c57fb1bf3b9d"
      },
      "execution_count": null,
      "outputs": [
        {
          "output_type": "stream",
          "name": "stdout",
          "text": [
            "Album 0 Rating is 10\n",
            "Album 1 Rating is 50\n",
            "Album 2 Rating is 90\n"
          ]
        }
      ]
    },
    {
      "cell_type": "code",
      "source": [
        "name_ =['alex', 'veto']\n",
        "\n",
        "def ArtistNames(*names):\n",
        "  for name in names: \n",
        "    return names\n"
      ],
      "metadata": {
        "id": "YbJlwwv2hBaE"
      },
      "execution_count": null,
      "outputs": []
    },
    {
      "cell_type": "code",
      "source": [
        "def AddMC(album_ratings_):\n",
        "  album_ratings_ = album_ratings_ +\"DC\"\n",
        "  print(album_ratings_)\n",
        "  return(album_ratings_)\n",
        "\n",
        "album_ratings_ = '2'\n",
        "result_ = AddMC(album_ratings_)"
      ],
      "metadata": {
        "colab": {
          "base_uri": "https://localhost:8080/"
        },
        "id": "En8ZyGQziCn_",
        "outputId": "6af1b9df-062e-4702-930f-2aeda07aaba4"
      },
      "execution_count": null,
      "outputs": [
        {
          "output_type": "stream",
          "name": "stdout",
          "text": [
            "2DC\n"
          ]
        }
      ]
    },
    {
      "cell_type": "markdown",
      "source": [
        "Global Scope means that this can be access from anywhere"
      ],
      "metadata": {
        "id": "5oKhb5aVvfmi"
      }
    },
    {
      "cell_type": "code",
      "source": [
        "def addDC(X):\n",
        "  X= X+\" DC\"\n",
        "  print(X)\n",
        "  return(X)\n",
        "\n",
        "X='AC' ##globla variable \n",
        "addDC(X) ##new data"
      ],
      "metadata": {
        "colab": {
          "base_uri": "https://localhost:8080/",
          "height": 54
        },
        "id": "sJKZIrS7j7Qd",
        "outputId": "1acfcd7b-c7da-4422-d88b-f72aac4b1c50"
      },
      "execution_count": 67,
      "outputs": [
        {
          "output_type": "stream",
          "name": "stdout",
          "text": [
            "AC DC\n"
          ]
        },
        {
          "output_type": "execute_result",
          "data": {
            "application/vnd.google.colaboratory.intrinsic+json": {
              "type": "string"
            },
            "text/plain": [
              "'AC DC'"
            ]
          },
          "metadata": {},
          "execution_count": 67
        }
      ]
    },
    {
      "cell_type": "code",
      "source": [
        "def thriller():  \n",
        "  Date=1982\n",
        "  return Date\n",
        "\n",
        "Date= 2017\n",
        "\n",
        "print(\"Date of the funtion \", thriller()) #scope thriiller \n",
        "\n",
        "print(\"Global date\", Date) #Global "
      ],
      "metadata": {
        "colab": {
          "base_uri": "https://localhost:8080/"
        },
        "id": "xFtwtFejlV-7",
        "outputId": "878e6b99-3f21-4927-fe35-202e9e30c571"
      },
      "execution_count": 64,
      "outputs": [
        {
          "output_type": "stream",
          "name": "stdout",
          "text": [
            "Date of the funtion  1982\n",
            "Global date 2017\n"
          ]
        }
      ]
    },
    {
      "cell_type": "code",
      "source": [
        "#Global Scope \n",
        "def Add3():\n",
        "  y = (Rating + 3)\n",
        "  print( \"Rating is: \", Rating, \" Add 3 funtion result: \", y)\n",
        "  return(Rating+y)\n",
        "\n",
        "Rating= 2\n",
        "\n",
        "Glo_ = Add3()\n",
        "\n",
        "print(\"This will give the Global result of the assigned varible: \", Glo_)"
      ],
      "metadata": {
        "colab": {
          "base_uri": "https://localhost:8080/"
        },
        "id": "22yzrbG5mNTS",
        "outputId": "52427da7-7760-4778-a29a-fe2b7a385a01"
      },
      "execution_count": 99,
      "outputs": [
        {
          "output_type": "stream",
          "name": "stdout",
          "text": [
            "Rating is:  2  Add 3 funtion result:  5\n",
            "This will give the Global result of the assigned varible 7\n"
          ]
        }
      ]
    }
  ]
}