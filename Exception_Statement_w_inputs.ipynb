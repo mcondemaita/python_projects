{
  "nbformat": 4,
  "nbformat_minor": 0,
  "metadata": {
    "colab": {
      "name": "Exception Statement w/ inputs.ipynb",
      "provenance": [],
      "authorship_tag": "ABX9TyMtDKyNqoWFHAbngl3/YgQC",
      "include_colab_link": true
    },
    "kernelspec": {
      "name": "python3",
      "display_name": "Python 3"
    },
    "language_info": {
      "name": "python"
    }
  },
  "cells": [
    {
      "cell_type": "markdown",
      "metadata": {
        "id": "view-in-github",
        "colab_type": "text"
      },
      "source": [
        "<a href=\"https://colab.research.google.com/github/mcondemaita/python_projects/blob/main/Exception_Statement_w_inputs.ipynb\" target=\"_parent\"><img src=\"https://colab.research.google.com/assets/colab-badge.svg\" alt=\"Open In Colab\"/></a>"
      ]
    },
    {
      "cell_type": "markdown",
      "source": [
        "An Exception is an error that occurs during the execution of code. This error causes the code to raise an exception nd if not prepared to handle it will half the execution of the code. "
      ],
      "metadata": {
        "id": "1l6MfYINlqOY"
      }
    },
    {
      "cell_type": "code",
      "execution_count": null,
      "metadata": {
        "id": "WtSUs_7ykrb7"
      },
      "outputs": [],
      "source": [
        "1/0\n",
        "#ZeroDivisionError "
      ]
    },
    {
      "cell_type": "code",
      "source": [
        "#nameError --- that you tried to use variable when it not defined in this cases 'a'\n",
        "y = a+5 "
      ],
      "metadata": {
        "id": "IEpC6JPsmT_T"
      },
      "execution_count": null,
      "outputs": []
    },
    {
      "cell_type": "code",
      "source": [
        "a = [1,2,3]\n",
        "a[4] #IndexError bec you trying to access data from using an index that doesnt exist in the list "
      ],
      "metadata": {
        "id": "DT24VVINm6K2"
      },
      "execution_count": null,
      "outputs": []
    },
    {
      "cell_type": "code",
      "source": [
        "#code before chashing \n",
        "a = 1\n",
        "try: \n",
        "  b = int(input(\"Please enter a number to divide a: \"))\n",
        "  a = a/b\n",
        "  print(\"Success a=\", a)\n",
        "except: \n",
        "  print(\"There was an error\")"
      ],
      "metadata": {
        "colab": {
          "base_uri": "https://localhost:8080/"
        },
        "id": "5rquS8j84Rsg",
        "outputId": "2723625a-7ebc-4526-a63c-0d1d8a1fd978"
      },
      "execution_count": 2,
      "outputs": [
        {
          "name": "stdout",
          "output_type": "stream",
          "text": [
            "There was an error\n",
            "Please enter a number to divide a: 2\n"
          ]
        }
      ]
    },
    {
      "cell_type": "code",
      "source": [
        "a = 1\n",
        "\n",
        "try:\n",
        "  b = int(input('Please enter a number to divide a: '))\n",
        "  a = a/b\n",
        "\n",
        "except ZeroDivisionError: \n",
        "  print(\"The number can not be divided by 0\")\n",
        "\n",
        "except ValueError: \n",
        "  print(\"You didnt provide a int value\")\n",
        "\n",
        "except: \n",
        "  print(\"Something went wrong\")\n",
        "\n",
        "else: \n",
        "  print(\"Success a= \", a)\n",
        "\n",
        "finally: \n",
        "  print(\"Processing Complete\")"
      ],
      "metadata": {
        "colab": {
          "base_uri": "https://localhost:8080/"
        },
        "id": "YxhpL44x6kQd",
        "outputId": "094e071a-4ebe-4f5d-bea7-2db8b7174f17"
      },
      "execution_count": 3,
      "outputs": [
        {
          "output_type": "stream",
          "name": "stdout",
          "text": [
            "Please enter a number to divide a: 2\n",
            "Success a=  0.5\n",
            "Processing Complete\n"
          ]
        }
      ]
    }
  ]
}