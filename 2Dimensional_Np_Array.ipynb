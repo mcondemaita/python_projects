{
  "nbformat": 4,
  "nbformat_minor": 0,
  "metadata": {
    "colab": {
      "name": "2Dimensional Np Array.ipynb",
      "provenance": [],
      "toc_visible": true,
      "authorship_tag": "ABX9TyPEG9idKbIYQ4GFKt41kMs5",
      "include_colab_link": true
    },
    "kernelspec": {
      "name": "python3",
      "display_name": "Python 3"
    },
    "language_info": {
      "name": "python"
    }
  },
  "cells": [
    {
      "cell_type": "markdown",
      "metadata": {
        "id": "view-in-github",
        "colab_type": "text"
      },
      "source": [
        "<a href=\"https://colab.research.google.com/github/mcondemaita/python_projects/blob/main/2Dimensional_Np_Array.ipynb\" target=\"_parent\"><img src=\"https://colab.research.google.com/assets/colab-badge.svg\" alt=\"Open In Colab\"/></a>"
      ]
    },
    {
      "cell_type": "code",
      "source": [
        "import numpy as np\n",
        "import matplotlib.pyplot as plt"
      ],
      "metadata": {
        "id": "nKfqvJdRTlQ4"
      },
      "execution_count": 4,
      "outputs": []
    },
    {
      "cell_type": "code",
      "execution_count": 5,
      "metadata": {
        "colab": {
          "base_uri": "https://localhost:8080/"
        },
        "id": "wlmhGO9_7O58",
        "outputId": "a433dc6f-0e3c-4538-96c9-e555e85a84c6"
      },
      "outputs": [
        {
          "output_type": "execute_result",
          "data": {
            "text/plain": [
              "[[11, 12, 13], [21, 22, 23], [31, 32, 33]]"
            ]
          },
          "metadata": {},
          "execution_count": 5
        }
      ],
      "source": [
        "#Create a list \n",
        "a = [[11,12,13], [21,22,23], [31,32,33]] #3 nest list \n",
        "a"
      ]
    },
    {
      "cell_type": "code",
      "source": [
        "#we can cast the list to Numpy Array \n",
        "#Every elemt is the same type \n",
        "A = np.array(a)\n",
        "A"
      ],
      "metadata": {
        "colab": {
          "base_uri": "https://localhost:8080/"
        },
        "id": "-dAdAgGTTXEs",
        "outputId": "5c724879-9641-44b5-e7e5-cb52ee3bd991"
      },
      "execution_count": 6,
      "outputs": [
        {
          "output_type": "execute_result",
          "data": {
            "text/plain": [
              "array([[11, 12, 13],\n",
              "       [21, 22, 23],\n",
              "       [31, 32, 33]])"
            ]
          },
          "metadata": {},
          "execution_count": 6
        }
      ]
    },
    {
      "cell_type": "code",
      "source": [
        "#use the attributes  ndim to obtaing the number of axes or dimensons, referred to as the rank \n",
        "A.ndim # show dimenstion "
      ],
      "metadata": {
        "colab": {
          "base_uri": "https://localhost:8080/"
        },
        "id": "6SksrVlqUTr0",
        "outputId": "7f9db02f-95b8-48ba-83cc-9fbe5032d23f"
      },
      "execution_count": 7,
      "outputs": [
        {
          "output_type": "execute_result",
          "data": {
            "text/plain": [
              "2"
            ]
          },
          "metadata": {},
          "execution_count": 7
        }
      ]
    },
    {
      "cell_type": "code",
      "source": [
        "#the appribute shape returns a tuple correspomding the size or number of each dimension \n",
        "A.shape # land and with on column and rows \n",
        "#show the numpy array shape "
      ],
      "metadata": {
        "colab": {
          "base_uri": "https://localhost:8080/"
        },
        "id": "R-BPhxcYUak4",
        "outputId": "9bc3cc47-65b4-4be3-9e2a-aeaac0e5727f"
      },
      "execution_count": 8,
      "outputs": [
        {
          "output_type": "execute_result",
          "data": {
            "text/plain": [
              "(3, 3)"
            ]
          },
          "metadata": {},
          "execution_count": 8
        }
      ]
    },
    {
      "cell_type": "code",
      "source": [
        "A.size"
      ],
      "metadata": {
        "colab": {
          "base_uri": "https://localhost:8080/"
        },
        "id": "uvo9CjtfUeJA",
        "outputId": "c22b34f8-6ba6-40f4-de1d-10a1cc7a850f"
      },
      "execution_count": 15,
      "outputs": [
        {
          "output_type": "execute_result",
          "data": {
            "text/plain": [
              "9"
            ]
          },
          "metadata": {},
          "execution_count": 15
        }
      ]
    },
    {
      "cell_type": "code",
      "source": [
        "B= np.array([[1,2,1], [0,1,1]])\n",
        "B.shape"
      ],
      "metadata": {
        "colab": {
          "base_uri": "https://localhost:8080/"
        },
        "id": "xcDMxtCiUvBu",
        "outputId": "d8e2ffb8-ae71-4f80-e6cd-a6d8c335beeb"
      },
      "execution_count": 14,
      "outputs": [
        {
          "output_type": "execute_result",
          "data": {
            "text/plain": [
              "(2, 3)"
            ]
          },
          "metadata": {},
          "execution_count": 14
        }
      ]
    },
    {
      "cell_type": "code",
      "source": [
        "#to select use the square brackets and the indices corresponding the element  \n",
        "x =A[0][0]# Access to the 1 element on the 1 row and 1 column \n",
        "x"
      ],
      "metadata": {
        "colab": {
          "base_uri": "https://localhost:8080/"
        },
        "id": "7oxWsH0gVSgd",
        "outputId": "50adecec-c797-4cb4-fb33-9cefca78addd"
      },
      "execution_count": 16,
      "outputs": [
        {
          "output_type": "execute_result",
          "data": {
            "text/plain": [
              "11"
            ]
          },
          "metadata": {},
          "execution_count": 16
        }
      ]
    },
    {
      "cell_type": "code",
      "source": [
        "y= B[0][1] # Access the 1 row and 2nd column \n",
        "y"
      ],
      "metadata": {
        "colab": {
          "base_uri": "https://localhost:8080/"
        },
        "id": "MtxxkWsWVy3a",
        "outputId": "9efadb45-59e3-4a20-b8cf-c8dc6076c7c8"
      },
      "execution_count": 18,
      "outputs": [
        {
          "output_type": "execute_result",
          "data": {
            "text/plain": [
              "2"
            ]
          },
          "metadata": {},
          "execution_count": 18
        }
      ]
    },
    {
      "cell_type": "code",
      "source": [
        "#slice the rows, Access the elements on the 1 & 2 columns \n",
        "\n",
        "div = A[0,0:2]\n",
        "div\n"
      ],
      "metadata": {
        "colab": {
          "base_uri": "https://localhost:8080/"
        },
        "id": "WaLwKagpW95i",
        "outputId": "45f30a7d-2afc-4af3-81ab-4cc374d8c273"
      },
      "execution_count": 20,
      "outputs": [
        {
          "output_type": "execute_result",
          "data": {
            "text/plain": [
              "array([11, 12])"
            ]
          },
          "metadata": {},
          "execution_count": 20
        }
      ]
    },
    {
      "cell_type": "code",
      "source": [
        "#Access the 1 & 2 row and 3 column  \n",
        "last = A[0:2,2] \n",
        "last"
      ],
      "metadata": {
        "colab": {
          "base_uri": "https://localhost:8080/"
        },
        "id": "bcnB3QT9XWjA",
        "outputId": "16a2c567-bb32-4e2e-cd3a-3dce823fd875"
      },
      "execution_count": 21,
      "outputs": [
        {
          "output_type": "execute_result",
          "data": {
            "text/plain": [
              "array([13, 23])"
            ]
          },
          "metadata": {},
          "execution_count": 21
        }
      ]
    },
    {
      "cell_type": "code",
      "source": [
        "#add metrix by individual colors\n",
        "x = np.array([[1,0], [0,1]])\n",
        "y = np.array([[2,1],[1,2]])\n"
      ],
      "metadata": {
        "colab": {
          "base_uri": "https://localhost:8080/"
        },
        "id": "d78ieqafXusv",
        "outputId": "ab2746e1-065b-4b5d-a265-c0147dc09768"
      },
      "execution_count": 22,
      "outputs": [
        {
          "output_type": "execute_result",
          "data": {
            "text/plain": [
              "array([[3, 1],\n",
              "       [1, 3]])"
            ]
          },
          "metadata": {},
          "execution_count": 22
        }
      ]
    },
    {
      "cell_type": "code",
      "source": [
        "#We can add them numpy arrays as follow: \n",
        "#Add X & y\n",
        "\n",
        "z = x+y\n",
        "z"
      ],
      "metadata": {
        "colab": {
          "base_uri": "https://localhost:8080/"
        },
        "id": "4iCiTD9RftSR",
        "outputId": "bd0f7d06-1367-4776-cb9c-38f6c48d2681"
      },
      "execution_count": 23,
      "outputs": [
        {
          "output_type": "execute_result",
          "data": {
            "text/plain": [
              "array([[3, 1],\n",
              "       [1, 3]])"
            ]
          },
          "metadata": {},
          "execution_count": 23
        }
      ]
    },
    {
      "cell_type": "code",
      "source": [
        "y = np.array([[2,1],[1,2]])\n",
        "Z = 2*(y) #this should be [4,2], [2,4]\n",
        "z"
      ],
      "metadata": {
        "colab": {
          "base_uri": "https://localhost:8080/"
        },
        "id": "_7iW1EuOZQiY",
        "outputId": "66736911-e395-41b0-a20c-25c33d8aebb5"
      },
      "execution_count": 45,
      "outputs": [
        {
          "output_type": "execute_result",
          "data": {
            "text/plain": [
              "array([[7, 5],\n",
              "       [5, 7]])"
            ]
          },
          "metadata": {},
          "execution_count": 45
        }
      ]
    },
    {
      "cell_type": "markdown",
      "source": [
        "Multiplying a numpy array by a  scaler is identical to multiplying a matrix by scaale. If We multiply matrix Y by scaler 2 \n",
        "use the dot to go one by one make sure the number of column and rows are igual in this case 3 Exp\n",
        "Row # 1\n",
        "A = 0*1 + 1*1 + 1*-1 =0 multi by rows \n",
        "A = 0*1 + 1*1 + 1*1 = 2 see below \n",
        "Row #2\n",
        "A = 1*1 + 0*1 + 1*-1 = 0 "
      ],
      "metadata": {
        "id": "-G0_P7l6cn3u"
      }
    },
    {
      "cell_type": "code",
      "source": [
        "Z_ = 2*y #Multiply Y with 2 \n",
        "Z_"
      ],
      "metadata": {
        "colab": {
          "base_uri": "https://localhost:8080/"
        },
        "id": "1UNvW6PngZOd",
        "outputId": "c0e4d843-8f53-4902-9424-18274d492715"
      },
      "execution_count": 24,
      "outputs": [
        {
          "output_type": "execute_result",
          "data": {
            "text/plain": [
              "array([[4, 2],\n",
              "       [2, 4]])"
            ]
          },
          "metadata": {},
          "execution_count": 24
        }
      ]
    },
    {
      "cell_type": "code",
      "source": [
        "#Multiply X with Y\n",
        "\n",
        "Final = x*y\n",
        "Final"
      ],
      "metadata": {
        "colab": {
          "base_uri": "https://localhost:8080/"
        },
        "id": "G8m2Qa1pgxdu",
        "outputId": "0408cf28-f094-40d7-9dd7-5c67ad759c42"
      },
      "execution_count": 25,
      "outputs": [
        {
          "output_type": "execute_result",
          "data": {
            "text/plain": [
              "array([[2, 0],\n",
              "       [0, 2]])"
            ]
          },
          "metadata": {},
          "execution_count": 25
        }
      ]
    },
    {
      "cell_type": "code",
      "source": [
        "#Perform matrix miltiplication with the numpy  array A &B \n",
        "A_ = np.array([[0,1,1],[1,0,1]]) #goes one by one\n",
        "B_ = np.array([[1,1], [1,1], [-1,1]])\n",
        "A_"
      ],
      "metadata": {
        "colab": {
          "base_uri": "https://localhost:8080/"
        },
        "id": "cymeHLdratIJ",
        "outputId": "3e1f2697-51e6-45af-ddb2-85fbfbc0c140"
      },
      "execution_count": 11,
      "outputs": [
        {
          "output_type": "execute_result",
          "data": {
            "text/plain": [
              "array([[0, 1, 1],\n",
              "       [1, 0, 1]])"
            ]
          },
          "metadata": {},
          "execution_count": 11
        }
      ]
    },
    {
      "cell_type": "code",
      "source": [
        "B_"
      ],
      "metadata": {
        "colab": {
          "base_uri": "https://localhost:8080/"
        },
        "id": "T6f6I5UI9393",
        "outputId": "c25fc127-8288-4af4-a859-df7025bcc747"
      },
      "execution_count": 12,
      "outputs": [
        {
          "output_type": "execute_result",
          "data": {
            "text/plain": [
              "array([[ 1,  1],\n",
              "       [ 1,  1],\n",
              "       [-1,  1]])"
            ]
          },
          "metadata": {},
          "execution_count": 12
        }
      ]
    },
    {
      "cell_type": "code",
      "source": [
        "#we use the numpy funtions dot to  multiply arrrays together \n",
        "c_ = np.dot(A_,B_)\n",
        "c_"
      ],
      "metadata": {
        "colab": {
          "base_uri": "https://localhost:8080/"
        },
        "id": "NQKtFH7V86nF",
        "outputId": "690b2dcb-7398-46fc-89b9-a1e0ff8b3e31"
      },
      "execution_count": 13,
      "outputs": [
        {
          "output_type": "execute_result",
          "data": {
            "text/plain": [
              "array([[0, 2],\n",
              "       [0, 2]])"
            ]
          },
          "metadata": {},
          "execution_count": 13
        }
      ]
    },
    {
      "cell_type": "code",
      "source": [
        "np.sin(c_) # Calculate the  sine of Z"
      ],
      "metadata": {
        "colab": {
          "base_uri": "https://localhost:8080/"
        },
        "id": "kxQ3ZnLG-kFf",
        "outputId": "cdbcf537-524a-4c71-e343-d91d5f2f9283"
      },
      "execution_count": 14,
      "outputs": [
        {
          "output_type": "execute_result",
          "data": {
            "text/plain": [
              "array([[0.        , 0.90929743],\n",
              "       [0.        , 0.90929743]])"
            ]
          },
          "metadata": {},
          "execution_count": 14
        }
      ]
    },
    {
      "cell_type": "code",
      "source": [
        "c_.T #T  to calculate the trasposes matrix "
      ],
      "metadata": {
        "colab": {
          "base_uri": "https://localhost:8080/"
        },
        "id": "nl6K8aFZ-z2r",
        "outputId": "0ae2871e-963d-4796-ac3e-87d325f1ed9d"
      },
      "execution_count": 15,
      "outputs": [
        {
          "output_type": "execute_result",
          "data": {
            "text/plain": [
              "array([[0, 0],\n",
              "       [2, 2]])"
            ]
          },
          "metadata": {},
          "execution_count": 15
        }
      ]
    },
    {
      "cell_type": "markdown",
      "source": [
        "Test "
      ],
      "metadata": {
        "id": "0bEzhyYYAIni"
      }
    },
    {
      "cell_type": "code",
      "source": [
        "a = [[1, 2, 3, 4], [5, 6, 7, 8], [9, 10, 11, 12]]"
      ],
      "metadata": {
        "id": "13Q-dRgOAGcj"
      },
      "execution_count": 16,
      "outputs": []
    },
    {
      "cell_type": "code",
      "source": [
        "df = np.array(a)\n",
        "df.size"
      ],
      "metadata": {
        "colab": {
          "base_uri": "https://localhost:8080/"
        },
        "id": "-CVG4gucALqS",
        "outputId": "50bc806d-4324-4364-f329-8a6fd0fde080"
      },
      "execution_count": 21,
      "outputs": [
        {
          "output_type": "execute_result",
          "data": {
            "text/plain": [
              "12"
            ]
          },
          "metadata": {},
          "execution_count": 21
        }
      ]
    },
    {
      "cell_type": "code",
      "source": [
        ""
      ],
      "metadata": {
        "id": "aP71_fvBCSe2"
      },
      "execution_count": null,
      "outputs": []
    }
  ]
}