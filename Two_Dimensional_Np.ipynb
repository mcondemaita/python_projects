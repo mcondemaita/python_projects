{
  "nbformat": 4,
  "nbformat_minor": 0,
  "metadata": {
    "colab": {
      "name": "Two Dimensional Np.ipynb",
      "provenance": [],
      "authorship_tag": "ABX9TyOeXWiIczyN/RqxkKubV6Wx",
      "include_colab_link": true
    },
    "kernelspec": {
      "name": "python3",
      "display_name": "Python 3"
    },
    "language_info": {
      "name": "python"
    }
  },
  "cells": [
    {
      "cell_type": "markdown",
      "metadata": {
        "id": "view-in-github",
        "colab_type": "text"
      },
      "source": [
        "<a href=\"https://colab.research.google.com/github/mcondemaita/python_projects/blob/main/Two_Dimensional_Np.ipynb\" target=\"_parent\"><img src=\"https://colab.research.google.com/assets/colab-badge.svg\" alt=\"Open In Colab\"/></a>"
      ]
    },
    {
      "cell_type": "code",
      "source": [
        "import numpy as np"
      ],
      "metadata": {
        "id": "nKfqvJdRTlQ4"
      },
      "execution_count": 3,
      "outputs": []
    },
    {
      "cell_type": "code",
      "execution_count": 4,
      "metadata": {
        "colab": {
          "base_uri": "https://localhost:8080/"
        },
        "id": "wlmhGO9_7O58",
        "outputId": "d9429c9e-e228-4eb9-a824-a206a493e9fc"
      },
      "outputs": [
        {
          "output_type": "execute_result",
          "data": {
            "text/plain": [
              "[[11, 12, 13], [21, 22, 23], [31, 32, 33]]"
            ]
          },
          "metadata": {},
          "execution_count": 4
        }
      ],
      "source": [
        "a = [[11,12,13], [21,22,23], [31,32,33]] #3 nest list \n",
        "a"
      ]
    },
    {
      "cell_type": "code",
      "source": [
        "A = np.array(a)\n",
        "A"
      ],
      "metadata": {
        "colab": {
          "base_uri": "https://localhost:8080/"
        },
        "id": "-dAdAgGTTXEs",
        "outputId": "95405b16-7102-4cb4-884d-1f10947753c2"
      },
      "execution_count": 7,
      "outputs": [
        {
          "output_type": "execute_result",
          "data": {
            "text/plain": [
              "array([[11, 12, 13],\n",
              "       [21, 22, 23],\n",
              "       [31, 32, 33]])"
            ]
          },
          "metadata": {},
          "execution_count": 7
        }
      ]
    },
    {
      "cell_type": "code",
      "source": [
        "A.ndim #dimenstion "
      ],
      "metadata": {
        "colab": {
          "base_uri": "https://localhost:8080/"
        },
        "id": "6SksrVlqUTr0",
        "outputId": "ecbba7f5-1c22-4606-c956-f308090cd2a2"
      },
      "execution_count": 8,
      "outputs": [
        {
          "output_type": "execute_result",
          "data": {
            "text/plain": [
              "2"
            ]
          },
          "metadata": {},
          "execution_count": 8
        }
      ]
    },
    {
      "cell_type": "code",
      "source": [
        "A.shape # land and with on column and rows "
      ],
      "metadata": {
        "colab": {
          "base_uri": "https://localhost:8080/"
        },
        "id": "R-BPhxcYUak4",
        "outputId": "8af653fa-8b0f-4968-e69c-281587abb232"
      },
      "execution_count": 9,
      "outputs": [
        {
          "output_type": "execute_result",
          "data": {
            "text/plain": [
              "(3, 3)"
            ]
          },
          "metadata": {},
          "execution_count": 9
        }
      ]
    },
    {
      "cell_type": "code",
      "source": [
        "A.size"
      ],
      "metadata": {
        "colab": {
          "base_uri": "https://localhost:8080/"
        },
        "id": "uvo9CjtfUeJA",
        "outputId": "58989f48-79b4-48bb-fdc6-112ddb325cb0"
      },
      "execution_count": 10,
      "outputs": [
        {
          "output_type": "execute_result",
          "data": {
            "text/plain": [
              "9"
            ]
          },
          "metadata": {},
          "execution_count": 10
        }
      ]
    },
    {
      "cell_type": "code",
      "source": [
        "B= np.array([[1,2,1], [0,1,1]])\n",
        "B.shape"
      ],
      "metadata": {
        "colab": {
          "base_uri": "https://localhost:8080/"
        },
        "id": "xcDMxtCiUvBu",
        "outputId": "f9746c0d-c4d9-4993-8ad5-c6327136350c"
      },
      "execution_count": 15,
      "outputs": [
        {
          "output_type": "execute_result",
          "data": {
            "text/plain": [
              "(2, 3)"
            ]
          },
          "metadata": {},
          "execution_count": 15
        }
      ]
    },
    {
      "cell_type": "code",
      "source": [
        "#to select a value form the list \n",
        "x =[[A[0][0]]]\n",
        "x"
      ],
      "metadata": {
        "colab": {
          "base_uri": "https://localhost:8080/"
        },
        "id": "7oxWsH0gVSgd",
        "outputId": "6d1f2a67-e10b-496f-f032-3f89ff1d7da0"
      },
      "execution_count": 19,
      "outputs": [
        {
          "output_type": "execute_result",
          "data": {
            "text/plain": [
              "[[11]]"
            ]
          },
          "metadata": {},
          "execution_count": 19
        }
      ]
    },
    {
      "cell_type": "code",
      "source": [
        "y= [[B[0][1]]]\n",
        "y"
      ],
      "metadata": {
        "colab": {
          "base_uri": "https://localhost:8080/"
        },
        "id": "MtxxkWsWVy3a",
        "outputId": "206a4f21-6a3d-4a66-a183-4d08c2e6204e"
      },
      "execution_count": 21,
      "outputs": [
        {
          "output_type": "execute_result",
          "data": {
            "text/plain": [
              "[[2]]"
            ]
          },
          "metadata": {},
          "execution_count": 21
        }
      ]
    },
    {
      "cell_type": "code",
      "source": [
        "#slice the rodes \n",
        "\n",
        "div = [A[0,0:2]]\n",
        "div\n"
      ],
      "metadata": {
        "colab": {
          "base_uri": "https://localhost:8080/"
        },
        "id": "WaLwKagpW95i",
        "outputId": "0a49ce94-0762-4253-ca9e-9feb3ed3ddb4"
      },
      "execution_count": 23,
      "outputs": [
        {
          "output_type": "execute_result",
          "data": {
            "text/plain": [
              "[array([11, 12])]"
            ]
          },
          "metadata": {},
          "execution_count": 23
        }
      ]
    },
    {
      "cell_type": "code",
      "source": [
        "last = [A[0:2,2]]\n",
        "last"
      ],
      "metadata": {
        "colab": {
          "base_uri": "https://localhost:8080/"
        },
        "id": "bcnB3QT9XWjA",
        "outputId": "d62c104b-b1dc-426c-eaeb-be1af225a756"
      },
      "execution_count": 25,
      "outputs": [
        {
          "output_type": "execute_result",
          "data": {
            "text/plain": [
              "[array([13, 23])]"
            ]
          },
          "metadata": {},
          "execution_count": 25
        }
      ]
    },
    {
      "cell_type": "code",
      "source": [
        "#add metrix by individual colors\n",
        "x = np.array([[1,0], [0,1]])\n",
        "y = np.array([[2,1],[1,2]])\n",
        "z = x+y\n",
        "z"
      ],
      "metadata": {
        "colab": {
          "base_uri": "https://localhost:8080/"
        },
        "id": "d78ieqafXusv",
        "outputId": "33b940c0-ecb9-4947-a017-f5ae7d84092a"
      },
      "execution_count": 35,
      "outputs": [
        {
          "output_type": "execute_result",
          "data": {
            "text/plain": [
              "array([[3, 1],\n",
              "       [1, 3]])"
            ]
          },
          "metadata": {},
          "execution_count": 35
        }
      ]
    },
    {
      "cell_type": "code",
      "source": [
        "y = np.array([[2,1],[1,2]])\n",
        "Z = 2*(y) #this should be [4,2], [2,4]\n",
        "z"
      ],
      "metadata": {
        "colab": {
          "base_uri": "https://localhost:8080/"
        },
        "id": "_7iW1EuOZQiY",
        "outputId": "66736911-e395-41b0-a20c-25c33d8aebb5"
      },
      "execution_count": 45,
      "outputs": [
        {
          "output_type": "execute_result",
          "data": {
            "text/plain": [
              "array([[7, 5],\n",
              "       [5, 7]])"
            ]
          },
          "metadata": {},
          "execution_count": 45
        }
      ]
    },
    {
      "cell_type": "markdown",
      "source": [
        "Metrix multiplitication \n",
        "use the dot to go one by one make sure the number of column and rows are igual in this case 3 Exp\n",
        "Row # 1\n",
        "A = 0*1 + 1*1 + 1*-1 =0 multi by rows \n",
        "A = 0*1 + 1*1 + 1*1 = 2 see below \n",
        "Row #2\n",
        "A = 1*1 + 0*1 + 1*-1 = 0 "
      ],
      "metadata": {
        "id": "-G0_P7l6cn3u"
      }
    },
    {
      "cell_type": "code",
      "source": [
        "A_ = np.array([[0,1,1],[1,0,1]]) #goes one by one\n",
        "B_ = np.array([[1,1], [1,1], [-1,1]])\n",
        "c_ = np.dot(A_,B_)\n",
        "c_"
      ],
      "metadata": {
        "colab": {
          "base_uri": "https://localhost:8080/"
        },
        "id": "cymeHLdratIJ",
        "outputId": "cb449511-7016-4526-de62-88227efa3e16"
      },
      "execution_count": 55,
      "outputs": [
        {
          "output_type": "execute_result",
          "data": {
            "text/plain": [
              "array([[0, 2],\n",
              "       [0, 2]])"
            ]
          },
          "metadata": {},
          "execution_count": 55
        }
      ]
    }
  ]
}