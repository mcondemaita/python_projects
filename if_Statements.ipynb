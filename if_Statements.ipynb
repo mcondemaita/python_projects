{
  "nbformat": 4,
  "nbformat_minor": 0,
  "metadata": {
    "colab": {
      "name": "if Statements",
      "provenance": [],
      "authorship_tag": "ABX9TyMKjSAhJ7nQvXDB7tyX6Lys",
      "include_colab_link": true
    },
    "kernelspec": {
      "name": "python3",
      "display_name": "Python 3"
    },
    "language_info": {
      "name": "python"
    }
  },
  "cells": [
    {
      "cell_type": "markdown",
      "metadata": {
        "id": "view-in-github",
        "colab_type": "text"
      },
      "source": [
        "<a href=\"https://colab.research.google.com/github/mcondemaita/python_projects/blob/main/if_Statements.ipynb\" target=\"_parent\"><img src=\"https://colab.research.google.com/assets/colab-badge.svg\" alt=\"Open In Colab\"/></a>"
      ]
    },
    {
      "cell_type": "code",
      "source": [
        "i=6\n",
        "i<5"
      ],
      "metadata": {
        "colab": {
          "base_uri": "https://localhost:8080/"
        },
        "id": "AXbdVhflYMLC",
        "outputId": "6ddbf935-592f-49bd-db87-32c52e5c8573"
      },
      "execution_count": 5,
      "outputs": [
        {
          "output_type": "execute_result",
          "data": {
            "text/plain": [
              "False"
            ]
          },
          "metadata": {},
          "execution_count": 5
        }
      ]
    },
    {
      "cell_type": "code",
      "source": [
        "5!=5"
      ],
      "metadata": {
        "colab": {
          "base_uri": "https://localhost:8080/"
        },
        "id": "Ich0oJtvahNj",
        "outputId": "3e238fcf-bd4c-4342-e8a0-ad673ed5b0da"
      },
      "execution_count": 6,
      "outputs": [
        {
          "output_type": "execute_result",
          "data": {
            "text/plain": [
              "False"
            ]
          },
          "metadata": {},
          "execution_count": 6
        }
      ]
    },
    {
      "cell_type": "code",
      "source": [
        "\"ABC\" == \"Michael Jackson\""
      ],
      "metadata": {
        "colab": {
          "base_uri": "https://localhost:8080/"
        },
        "id": "ylJss9zsancM",
        "outputId": "343e5918-81fd-4df5-ee0c-4b560a05c133"
      },
      "execution_count": 7,
      "outputs": [
        {
          "output_type": "execute_result",
          "data": {
            "text/plain": [
              "False"
            ]
          },
          "metadata": {},
          "execution_count": 7
        }
      ]
    },
    {
      "cell_type": "code",
      "source": [
        "\"a\" == \"A\""
      ],
      "metadata": {
        "colab": {
          "base_uri": "https://localhost:8080/"
        },
        "id": "rQKsOImRazYg",
        "outputId": "6e9d4c5c-df0a-4065-a303-19c9f77c0764"
      },
      "execution_count": 8,
      "outputs": [
        {
          "output_type": "execute_result",
          "data": {
            "text/plain": [
              "False"
            ]
          },
          "metadata": {},
          "execution_count": 8
        }
      ]
    },
    {
      "cell_type": "code",
      "source": [
        "age = 18\n",
        "if age>18:\n",
        "  print('You can enter')\n",
        "print('move on, you can not enter')"
      ],
      "metadata": {
        "colab": {
          "base_uri": "https://localhost:8080/"
        },
        "id": "UzjeIz3VbILV",
        "outputId": "0a096153-17e5-43a1-de75-3990b29a2c54"
      },
      "execution_count": 18,
      "outputs": [
        {
          "output_type": "stream",
          "name": "stdout",
          "text": [
            "move on, you can not enter\n"
          ]
        }
      ]
    },
    {
      "cell_type": "code",
      "source": [
        "age = 17\n",
        "if age >18: # if this is false\n",
        "  print('you can enter')\n",
        "\n",
        "else:\n",
        "  print ('go see Meat Loaf')\n",
        "print ('move on')"
      ],
      "metadata": {
        "colab": {
          "base_uri": "https://localhost:8080/"
        },
        "id": "5yusZFoibiWf",
        "outputId": "60373125-fe82-498f-f749-b39103f65661"
      },
      "execution_count": 19,
      "outputs": [
        {
          "output_type": "stream",
          "name": "stdout",
          "text": [
            "go see Meat Loaf\n",
            "move on\n"
          ]
        }
      ]
    },
    {
      "cell_type": "code",
      "source": [
        "age = 10\n",
        "if age > 18: ##if true\n",
        "  print('You can enter')\n",
        "\n",
        "elif age == 18: \n",
        "  print('you can see Pink Floyd')\n",
        "\n",
        "else: \n",
        "  print('go see Meat Loaf')\n",
        "print ('move on')"
      ],
      "metadata": {
        "colab": {
          "base_uri": "https://localhost:8080/"
        },
        "id": "m7KvDuXzdEkt",
        "outputId": "a0307c8a-4b55-4281-e708-6652d7df9c1c"
      },
      "execution_count": 20,
      "outputs": [
        {
          "output_type": "stream",
          "name": "stdout",
          "text": [
            "go see Meat Loaf\n",
            "move on\n"
          ]
        }
      ]
    },
    {
      "cell_type": "markdown",
      "source": [
        "Logic Opeations: OR\n",
        "---\n",
        "False & False = False\n",
        "false & True = True\n",
        "True & false = True\n",
        "True & true = True \n"
      ],
      "metadata": {
        "id": "vQ-_NhiBeMBc"
      }
    },
    {
      "cell_type": "code",
      "source": [
        "album_year = 1990 \n",
        "if album_year < 1980 or album_year > 1989:\n",
        "  print(\"The album was made in the 70' or 90's\")\n",
        "\n",
        "else:\n",
        "  print('The albun was made in the')"
      ],
      "metadata": {
        "colab": {
          "base_uri": "https://localhost:8080/"
        },
        "id": "78iGD2EyeOZG",
        "outputId": "9c40a21a-7a45-4c19-9715-a317e7bd64b4"
      },
      "execution_count": 23,
      "outputs": [
        {
          "output_type": "stream",
          "name": "stdout",
          "text": [
            "The album was made in the 70' or 90's\n"
          ]
        }
      ]
    },
    {
      "cell_type": "code",
      "source": [
        "age = 30\n",
        "\n",
        "if age<18 or age <20:\n",
        "  print(\"you can drive\")\n",
        "\n",
        "else: \n",
        "  print('you can do anything in life')\n",
        "\n"
      ],
      "metadata": {
        "colab": {
          "base_uri": "https://localhost:8080/"
        },
        "id": "732K3UqaeL1M",
        "outputId": "eff0beab-a248-4d4f-8b64-2e277bf9c32b"
      },
      "execution_count": 24,
      "outputs": [
        {
          "output_type": "stream",
          "name": "stdout",
          "text": [
            "you can do anything in life\n"
          ]
        }
      ]
    },
    {
      "cell_type": "markdown",
      "source": [
        "Logic Operations: AND\n",
        "---\n",
        "False & False = False\n",
        "false & True = False\n",
        "True & false = False\n",
        "True & true = True \n"
      ],
      "metadata": {
        "id": "h5fGPTkBhPlv"
      }
    },
    {
      "cell_type": "code",
      "source": [
        "album_year = 1983\n",
        "if album_year < 1980 and album_year > 1989: #if one is false it move to the next condition \n",
        "  print(\"The album was made in the 70' or 90's\")\n",
        "\n",
        "else:\n",
        "  print('The albun was made in the')"
      ],
      "metadata": {
        "colab": {
          "base_uri": "https://localhost:8080/"
        },
        "id": "_IZuKnd7g9xu",
        "outputId": "93986a9c-3964-4d63-d37a-eb70edd75a5d"
      },
      "execution_count": 26,
      "outputs": [
        {
          "output_type": "stream",
          "name": "stdout",
          "text": [
            "The albun was made in the\n"
          ]
        }
      ]
    },
    {
      "cell_type": "code",
      "source": [
        "5!=5"
      ],
      "metadata": {
        "colab": {
          "base_uri": "https://localhost:8080/"
        },
        "id": "DVaL206riTqS",
        "outputId": "13a041b6-1dea-40d7-9822-caebad7ab290"
      },
      "execution_count": 28,
      "outputs": [
        {
          "output_type": "execute_result",
          "data": {
            "text/plain": [
              "False"
            ]
          },
          "metadata": {},
          "execution_count": 28
        }
      ]
    }
  ]
}