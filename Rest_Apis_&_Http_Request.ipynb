{
  "nbformat": 4,
  "nbformat_minor": 0,
  "metadata": {
    "colab": {
      "name": "Rest Apis & Http Request.ipynb",
      "provenance": [],
      "authorship_tag": "ABX9TyNafAw/hzyf/DjxUnv9ro7U",
      "include_colab_link": true
    },
    "kernelspec": {
      "name": "python3",
      "display_name": "Python 3"
    },
    "language_info": {
      "name": "python"
    }
  },
  "cells": [
    {
      "cell_type": "markdown",
      "metadata": {
        "id": "view-in-github",
        "colab_type": "text"
      },
      "source": [
        "<a href=\"https://colab.research.google.com/github/mcondemaita/python_projects/blob/main/Rest_Apis_%26_Http_Request.ipynb\" target=\"_parent\"><img src=\"https://colab.research.google.com/assets/colab-badge.svg\" alt=\"Open In Colab\"/></a>"
      ]
    },
    {
      "cell_type": "code",
      "execution_count": 6,
      "metadata": {
        "colab": {
          "base_uri": "https://localhost:8080/"
        },
        "id": "nNT5vQIlEbna",
        "outputId": "6b7ee901-d9d0-46b4-9690-433e2bee3cfb"
      },
      "outputs": [
        {
          "output_type": "execute_result",
          "data": {
            "text/plain": [
              "200"
            ]
          },
          "metadata": {},
          "execution_count": 6
        }
      ],
      "source": [
        "import requests\n",
        "url = 'http://www.ibm.com/'\n",
        "r = requests.get(url)\n",
        "r.status_code #the statues of the requests"
      ]
    },
    {
      "cell_type": "code",
      "source": [
        "r.request.headers #python dictionary \n",
        "#r.request.body returns none \n",
        "headers = r.headers\n",
        "headers #return the dictionary you can use the attributes "
      ],
      "metadata": {
        "colab": {
          "base_uri": "https://localhost:8080/"
        },
        "id": "Z3uhXt2XMEIZ",
        "outputId": "f218e3d8-fd4c-473a-f49d-2d4b8d406d59"
      },
      "execution_count": 15,
      "outputs": [
        {
          "output_type": "execute_result",
          "data": {
            "text/plain": [
              "{'User-Agent': 'python-requests/2.23.0', 'Accept-Encoding': 'gzip, deflate', 'Accept': '*/*', 'Connection': 'keep-alive', 'Cookie': '_abck=5530125720000605D70068134F207603~-1~YAAQxbQtF4HgOVJ/AQAAte4vVQeyeUY+YS40+tU/NpJgqdGJ+5e1E57H8L0NrrI0fCcORr1H0/Y477KikCldzomFpCMhR/0D0rn3OUwGOIDdkMPFI0cNDRD5z8jpiWgDjApPqZUttfln6SowD/0PI5SimB8xukhemiUQZUoYRx92AjdE9vHYDhqX5wsCm/IyTHkWpfDQC2lImv699z9jO/CMS8cqG82CzeeL0MGgmh9yVavhptYmpa6KfasWYY7vgg5pxUCJ52v54IbroSqC5gS4yzlRJYFt5Lfu4h+q4piJAEVJyKlLSPmqtdpkuLqnyLQ/1hzzhSvcn1+qOODmR8w=~-1~-1~-1; bm_sz=E48603DCC54BEC78B4ED18B27780E488~YAAQxbQtF4LgOVJ/AQAAte4vVQ+TLteB/iH5Ar2NFmSnZzhC1RQ24TGK6q6u6rBUvanUG2NQAPKIwOdpVvskLf+zMviUQzRbWkJGdOpAoRa0fEczcprET4HyXjK/z73eqv03ibSua1AbMyiDQqgrGwomULnDPgYzv4pQzbQhSFa9eJGR/M3cjxq79AmI2LleBtmMeKduk5I2wrcc/jMbSuxS9fVL5kt3BdFAmpRwBCrKsmRS4kYyvVacRBRbQPRJwGqgwPHSu3KyJhqYuT1YqIELBf184Va/R1FyLvJz37k=~3421753~3753011'}"
            ]
          },
          "metadata": {},
          "execution_count": 15
        }
      ]
    },
    {
      "cell_type": "code",
      "source": [
        ""
      ],
      "metadata": {
        "id": "F72zNFlFNbgl"
      },
      "execution_count": null,
      "outputs": []
    },
    {
      "cell_type": "markdown",
      "source": [
        "Get request with URL paremeters \n",
        "1. Base URL / ROUTE (http.../get)\n",
        "2. Query String\n",
        "  - start query | paramenter| value |&| paramenter nume| value\n",
        "   e.g  ?          name       Maria      ID              123\n",
        "\n",
        "\n"
      ],
      "metadata": {
        "id": "Xp42FVpmQQCX"
      }
    },
    {
      "cell_type": "code",
      "source": [
        "url_get = 'http://httpbin.org/get' \n",
        "#create a query use the dictionary payload\n",
        "\n",
        "payload = {'name':'Maria', 'ID':'123'}\n",
        "\n",
        "#pass the paramenter dic to the dic payload  to get() funtion \n",
        "\n",
        "r = requests.get(url_get, params=payload)\n",
        "r.request.headers"
      ],
      "metadata": {
        "colab": {
          "base_uri": "https://localhost:8080/"
        },
        "id": "GJPid4aCQ_yx",
        "outputId": "f29b1432-135f-43de-fd07-fe1f5347d07d"
      },
      "execution_count": 22,
      "outputs": [
        {
          "output_type": "execute_result",
          "data": {
            "text/plain": [
              "{'User-Agent': 'python-requests/2.23.0', 'Accept-Encoding': 'gzip, deflate', 'Accept': '*/*', 'Connection': 'keep-alive'}"
            ]
          },
          "metadata": {},
          "execution_count": 22
        }
      ]
    },
    {
      "cell_type": "code",
      "source": [
        "r.url # To see the name and values"
      ],
      "metadata": {
        "colab": {
          "base_uri": "https://localhost:8080/",
          "height": 35
        },
        "id": "5yAw361qZsF5",
        "outputId": "87a1fedc-474a-49b9-e1d0-6b87ba67500a"
      },
      "execution_count": 24,
      "outputs": [
        {
          "output_type": "execute_result",
          "data": {
            "application/vnd.google.colaboratory.intrinsic+json": {
              "type": "string"
            },
            "text/plain": [
              "'http://httpbin.org/get?name=Maria&ID=123'"
            ]
          },
          "metadata": {},
          "execution_count": 24
        }
      ]
    },
    {
      "cell_type": "code",
      "source": [
        "r.text\n",
        "r.headers['Content-Type'] #to see the data type"
      ],
      "metadata": {
        "colab": {
          "base_uri": "https://localhost:8080/",
          "height": 35
        },
        "id": "lezKmLaPaBqi",
        "outputId": "042e7f21-9a15-41d2-bd14-9bd6b9060c70"
      },
      "execution_count": 27,
      "outputs": [
        {
          "output_type": "execute_result",
          "data": {
            "application/vnd.google.colaboratory.intrinsic+json": {
              "type": "string"
            },
            "text/plain": [
              "'application/json'"
            ]
          },
          "metadata": {},
          "execution_count": 27
        }
      ]
    },
    {
      "cell_type": "code",
      "source": [
        "r.json() #read in json bec we alread know this "
      ],
      "metadata": {
        "colab": {
          "base_uri": "https://localhost:8080/"
        },
        "id": "9LRvAIOWaR8l",
        "outputId": "df9526e4-7e7b-4846-dc4e-3e86c51c4d40"
      },
      "execution_count": 26,
      "outputs": [
        {
          "output_type": "execute_result",
          "data": {
            "text/plain": [
              "{'args': {'ID': '123', 'name': 'Maria'},\n",
              " 'headers': {'Accept': '*/*',\n",
              "  'Accept-Encoding': 'gzip, deflate',\n",
              "  'Host': 'httpbin.org',\n",
              "  'User-Agent': 'python-requests/2.23.0',\n",
              "  'X-Amzn-Trace-Id': 'Root=1-62221f9d-418e9592791e646264fc8262'},\n",
              " 'origin': '35.245.229.73',\n",
              " 'url': 'http://httpbin.org/get?name=Maria&ID=123'}"
            ]
          },
          "metadata": {},
          "execution_count": 26
        }
      ]
    },
    {
      "cell_type": "code",
      "source": [
        "r.json()['args'] #to get the values for the query string "
      ],
      "metadata": {
        "colab": {
          "base_uri": "https://localhost:8080/"
        },
        "id": "53BonxmXawEY",
        "outputId": "de6c26a5-6943-4712-eddc-d1126538ccdf"
      },
      "execution_count": 28,
      "outputs": [
        {
          "output_type": "execute_result",
          "data": {
            "text/plain": [
              "{'ID': '123', 'name': 'Maria'}"
            ]
          },
          "metadata": {},
          "execution_count": 28
        }
      ]
    },
    {
      "cell_type": "markdown",
      "source": [
        "like a get request, POST Requests is used to send data to a server but send the data in a request body not the url "
      ],
      "metadata": {
        "id": "GlTdGYNxbLxR"
      }
    },
    {
      "cell_type": "code",
      "source": [
        "#url \n",
        "url_post = 'http://httpbin.org/post'\n",
        "#what info are we are posting or getting \n",
        "payload = {'Name':'Jhon', 'ID':'456'} #\":\" structure to add values\n",
        "\n",
        "#POST \n",
        "r_post = requests.post(url_post, data=payload)\n",
        "#r_post.headers\n",
        "r_post.json() #the post information is post in the body 'form'"
      ],
      "metadata": {
        "colab": {
          "base_uri": "https://localhost:8080/"
        },
        "id": "9IwyasekdAWN",
        "outputId": "a19421ce-d8a3-463a-84c4-17a34ca6cb20"
      },
      "execution_count": 35,
      "outputs": [
        {
          "output_type": "execute_result",
          "data": {
            "text/plain": [
              "{'args': {},\n",
              " 'data': '',\n",
              " 'files': {},\n",
              " 'form': {'ID': '456', 'Name': 'Jhon'},\n",
              " 'headers': {'Accept': '*/*',\n",
              "  'Accept-Encoding': 'gzip, deflate',\n",
              "  'Content-Length': '16',\n",
              "  'Content-Type': 'application/x-www-form-urlencoded',\n",
              "  'Host': 'httpbin.org',\n",
              "  'User-Agent': 'python-requests/2.23.0',\n",
              "  'X-Amzn-Trace-Id': 'Root=1-62222ba8-0955246212c754314d231c1c'},\n",
              " 'json': None,\n",
              " 'origin': '35.245.229.73',\n",
              " 'url': 'http://httpbin.org/post'}"
            ]
          },
          "metadata": {},
          "execution_count": 35
        }
      ]
    },
    {
      "cell_type": "code",
      "source": [
        "print('POST request URL', r_post.url) # no information in the url \n",
        "print('Get request URL'), r.url"
      ],
      "metadata": {
        "colab": {
          "base_uri": "https://localhost:8080/"
        },
        "id": "WoHOqycBeypW",
        "outputId": "28a8328a-89ed-4f4e-8805-63b3e6abab3c"
      },
      "execution_count": 36,
      "outputs": [
        {
          "output_type": "stream",
          "name": "stdout",
          "text": [
            "POST request URL http://httpbin.org/post\n",
            "Get request URL\n"
          ]
        },
        {
          "output_type": "execute_result",
          "data": {
            "text/plain": [
              "(None, 'http://httpbin.org/get?name=Maria&ID=123')"
            ]
          },
          "metadata": {},
          "execution_count": 36
        }
      ]
    },
    {
      "cell_type": "code",
      "source": [
        "print('POST request boby', r_post.request.body) # no information in the url \n",
        "print('Get request body', r.request.body)"
      ],
      "metadata": {
        "colab": {
          "base_uri": "https://localhost:8080/"
        },
        "id": "zWrcJNA7fPrN",
        "outputId": "0f20e4f1-6bc3-4437-f29d-860e25b26148"
      },
      "execution_count": 39,
      "outputs": [
        {
          "output_type": "stream",
          "name": "stdout",
          "text": [
            "POST request boby Name=Jhon&ID=456\n",
            "Get request body None\n"
          ]
        }
      ]
    }
  ]
}