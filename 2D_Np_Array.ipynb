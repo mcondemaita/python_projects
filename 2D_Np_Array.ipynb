{
  "nbformat": 4,
  "nbformat_minor": 0,
  "metadata": {
    "colab": {
      "name": "2D Np Array.ipynb",
      "provenance": [],
      "authorship_tag": "ABX9TyPNg1CWBjvfwNqTVadYUt5v",
      "include_colab_link": true
    },
    "kernelspec": {
      "name": "python3",
      "display_name": "Python 3"
    },
    "language_info": {
      "name": "python"
    }
  },
  "cells": [
    {
      "cell_type": "markdown",
      "metadata": {
        "id": "view-in-github",
        "colab_type": "text"
      },
      "source": [
        "<a href=\"https://colab.research.google.com/github/mcondemaita/python_projects/blob/main/2D_Np_Array.ipynb\" target=\"_parent\"><img src=\"https://colab.research.google.com/assets/colab-badge.svg\" alt=\"Open In Colab\"/></a>"
      ]
    },
    {
      "cell_type": "code",
      "execution_count": null,
      "metadata": {
        "id": "8fhHJchpPQm9"
      },
      "outputs": [],
      "source": [
        "import pandas as pd\n",
        "import numpy as np\n",
        "import matplotlib.pyplot as plt"
      ]
    },
    {
      "cell_type": "code",
      "source": [
        "with open(\"/content/Test.txt\") as file1:\n",
        "  file_stuff = file1.readline()\n",
        "  print(file_stuff)"
      ],
      "metadata": {
        "id": "EQlRkAagbETb",
        "colab": {
          "base_uri": "https://localhost:8080/"
        },
        "outputId": "dc1d0b28-0815-4e3b-83f6-6cf4ca3913f2"
      },
      "execution_count": null,
      "outputs": [
        {
          "output_type": "stream",
          "name": "stdout",
          "text": [
            "This is a test only\n",
            "\n"
          ]
        }
      ]
    },
    {
      "cell_type": "code",
      "source": [
        "with open(\"/content/Test.txt\") as file2: \n",
        "  fileContent = file2.readlines()\n",
        "  print(fileContent)"
      ],
      "metadata": {
        "colab": {
          "base_uri": "https://localhost:8080/"
        },
        "id": "hh_JUrXJYskK",
        "outputId": "5c4ffb66-1030-48b7-f1ef-b2fda1c905be"
      },
      "execution_count": null,
      "outputs": [
        {
          "output_type": "stream",
          "name": "stdout",
          "text": [
            "['This is a test only\\n', 'Line 2\\n', 'Line 2 \\n']\n"
          ]
        }
      ]
    },
    {
      "cell_type": "code",
      "source": [
        "with open(\"/content/Test.txt\", \"w\") as writefile: \n",
        "  writefile.write(\"This is Line A\\n\")\n",
        "  writefile.write(\"This is Line B\\n\")\n"
      ],
      "metadata": {
        "colab": {
          "base_uri": "https://localhost:8080/"
        },
        "id": "lfPq8FRnaG_u",
        "outputId": "dcbad0f9-e18f-4d54-8613-1440e86e9dc2"
      },
      "execution_count": null,
      "outputs": [
        {
          "output_type": "execute_result",
          "data": {
            "text/plain": [
              "<_io.TextIOWrapper name='/content/Test.txt' mode='w' encoding='UTF-8'>"
            ]
          },
          "metadata": {},
          "execution_count": 17
        }
      ]
    },
    {
      "cell_type": "code",
      "source": [
        "with open(\"/content/Test.txt\", \"w\") as file1:\n",
        "  pf = file1.write(\"This is line C\\n\")\n",
        "  print(pf)"
      ],
      "metadata": {
        "colab": {
          "base_uri": "https://localhost:8080/"
        },
        "id": "XqAlcntceyC9",
        "outputId": "97285a6b-67cc-4fba-a667-e9a4a6a275db"
      },
      "execution_count": null,
      "outputs": [
        {
          "output_type": "stream",
          "name": "stdout",
          "text": [
            "15\n"
          ]
        }
      ]
    },
    {
      "cell_type": "code",
      "source": [
        "lines = ['Test2', 'How to write text files in Python']\n",
        "with open('Test2.txt', 'w') as f: \n",
        "  for line in lines: \n",
        "    f.write(line)\n",
        "    f.write('\\n')\n"
      ],
      "metadata": {
        "colab": {
          "base_uri": "https://localhost:8080/"
        },
        "id": "_6S8PE_3fWZb",
        "outputId": "a4f1fd89-eb12-400b-bad7-bc5ae272cba3"
      },
      "execution_count": null,
      "outputs": [
        {
          "output_type": "execute_result",
          "data": {
            "text/plain": [
              "['Test2', 'How to write text files in Python']"
            ]
          },
          "metadata": {},
          "execution_count": 32
        }
      ]
    }
  ]
}