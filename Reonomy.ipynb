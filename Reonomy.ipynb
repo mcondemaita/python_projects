{
  "nbformat": 4,
  "nbformat_minor": 0,
  "metadata": {
    "colab": {
      "name": "Reonomy.ipynb",
      "provenance": [],
      "toc_visible": true,
      "include_colab_link": true
    },
    "kernelspec": {
      "name": "python3",
      "display_name": "Python 3"
    },
    "language_info": {
      "name": "python"
    }
  },
  "cells": [
    {
      "cell_type": "markdown",
      "metadata": {
        "id": "view-in-github",
        "colab_type": "text"
      },
      "source": [
        "<a href=\"https://colab.research.google.com/github/mcondemaita/python_projects/blob/main/Reonomy.ipynb\" target=\"_parent\"><img src=\"https://colab.research.google.com/assets/colab-badge.svg\" alt=\"Open In Colab\"/></a>"
      ]
    },
    {
      "cell_type": "markdown",
      "source": [
        "Reonomy is trying to determine the **owner** of a property using internal data about the property and external data about **business entities**."
      ],
      "metadata": {
        "id": "zkeDKiCncJSN"
      }
    },
    {
      "cell_type": "code",
      "execution_count": 2,
      "metadata": {
        "id": "AUz6bGtRbZvn"
      },
      "outputs": [],
      "source": [
        "import pandas  as pd #for the data frame\n",
        "import numpy as np\n",
        "import matplotlib.pyplot as plt\n",
        "import requests"
      ]
    },
    {
      "cell_type": "code",
      "source": [
        "##Use pandas to read the information \n",
        "properties = pd.read_csv(\"/content/properties.csv\")\n",
        "#DataFrame has 0 - 274 rows and 202 columns \n",
        "properties.info()\n",
        "#list(properties.columns.values)"
      ],
      "metadata": {
        "id": "ol7HTQaGcuUE",
        "colab": {
          "base_uri": "https://localhost:8080/"
        },
        "outputId": "8e71c277-19a5-4afa-de3a-1f056eaf53e6"
      },
      "execution_count": 4,
      "outputs": [
        {
          "output_type": "stream",
          "name": "stdout",
          "text": [
            "<class 'pandas.core.frame.DataFrame'>\n",
            "RangeIndex: 275 entries, 0 to 274\n",
            "Columns: 202 entries, property_id to ownership\n",
            "dtypes: bool(3), float64(101), int64(4), object(94)\n",
            "memory usage: 428.5+ KB\n"
          ]
        }
      ]
    },
    {
      "cell_type": "markdown",
      "source": [
        "Q1 \n",
        "\n",
        "---\n",
        "What are the major categories of data / columns? Which columns seem the most relevant for\n",
        "determining the **owner of a property?** Prepare a few questions to discuss. (15 min)"
      ],
      "metadata": {
        "id": "CBS6jd5LfBTn"
      }
    },
    {
      "cell_type": "code",
      "source": [
        "#The major categories of data set that I woul select will be data1 \n",
        "data1 = properties[['property_id','owner_std1_first_name','owner_std1_last_name', 'owner_std_name1_full','owner_std1_entity_type']]\n",
        "\n",
        "#We may consider std2 but some data is missing \n",
        "data2 = properties[['property_id','owner_std2_first_name','owner_std2_last_name','owner_std_name2_full', 'owner_std2_entity_type']]\n",
        "\n",
        "data1.isnull().sum()\n",
        "#data2.isnull().sum()\n",
        "# The following is missing: \n",
        "# owner_std2_first_name = 180 of 275 ~ 34% of data missing \n",
        "# owner_std2_last_name = 168 on a total data of 275 entries (rows) ~ 38% of data missing \n"
      ],
      "metadata": {
        "colab": {
          "base_uri": "https://localhost:8080/"
        },
        "id": "vQGkoQS7iBdv",
        "outputId": "135f9bdc-25c8-4f8c-8f9e-7a57df3abd41"
      },
      "execution_count": 5,
      "outputs": [
        {
          "output_type": "execute_result",
          "data": {
            "text/plain": [
              "property_id                0\n",
              "owner_std1_first_name     91\n",
              "owner_std1_last_name       2\n",
              "owner_std_name1_full       0\n",
              "owner_std1_entity_type     0\n",
              "dtype: int64"
            ]
          },
          "metadata": {},
          "execution_count": 5
        }
      ]
    },
    {
      "cell_type": "markdown",
      "source": [
        "Q2. \n",
        "\n",
        "---\n",
        "Create a new tab where you clean and edit the data to \n",
        "focus on owner-related fields. For\n",
        "example, you might choose to hide or delete columns, rearrange columns, add background\n",
        "colors, etc. (15 min)"
      ],
      "metadata": {
        "id": "kYPA6NJfUeJ1"
      }
    },
    {
      "cell_type": "code",
      "source": [
        "drp_df = data1.drop(columns='property_id')\n",
        "drp_df.head()"
      ],
      "metadata": {
        "id": "i_bmUAM3ZbyR",
        "outputId": "d87686fd-adb0-4a69-a24e-c691de2ae538",
        "colab": {
          "base_uri": "https://localhost:8080/",
          "height": 204
        }
      },
      "execution_count": 32,
      "outputs": [
        {
          "output_type": "execute_result",
          "data": {
            "text/html": [
              "\n",
              "  <div id=\"df-5100b02f-8145-4fbd-ab58-529f3be0a366\">\n",
              "    <div class=\"colab-df-container\">\n",
              "      <div>\n",
              "<style scoped>\n",
              "    .dataframe tbody tr th:only-of-type {\n",
              "        vertical-align: middle;\n",
              "    }\n",
              "\n",
              "    .dataframe tbody tr th {\n",
              "        vertical-align: top;\n",
              "    }\n",
              "\n",
              "    .dataframe thead th {\n",
              "        text-align: right;\n",
              "    }\n",
              "</style>\n",
              "<table border=\"1\" class=\"dataframe\">\n",
              "  <thead>\n",
              "    <tr style=\"text-align: right;\">\n",
              "      <th></th>\n",
              "      <th>owner_std1_first_name</th>\n",
              "      <th>owner_std1_last_name</th>\n",
              "      <th>owner_std_name1_full</th>\n",
              "      <th>owner_std1_entity_type</th>\n",
              "    </tr>\n",
              "  </thead>\n",
              "  <tbody>\n",
              "    <tr>\n",
              "      <th>0</th>\n",
              "      <td>JOHN</td>\n",
              "      <td>GRUGEL</td>\n",
              "      <td>GRUGEL JOHN</td>\n",
              "      <td>person</td>\n",
              "    </tr>\n",
              "    <tr>\n",
              "      <th>1</th>\n",
              "      <td>ALAN</td>\n",
              "      <td>FISHMAN</td>\n",
              "      <td>FISHMAN ALAN L</td>\n",
              "      <td>person</td>\n",
              "    </tr>\n",
              "    <tr>\n",
              "      <th>2</th>\n",
              "      <td>JOSEPH</td>\n",
              "      <td>RICE</td>\n",
              "      <td>RICE JOSEPH L</td>\n",
              "      <td>person</td>\n",
              "    </tr>\n",
              "    <tr>\n",
              "      <th>3</th>\n",
              "      <td>LOKESH</td>\n",
              "      <td>KAPA</td>\n",
              "      <td>KAPA LOKESH</td>\n",
              "      <td>business entity</td>\n",
              "    </tr>\n",
              "    <tr>\n",
              "      <th>4</th>\n",
              "      <td>NaN</td>\n",
              "      <td>CITY OF GREENWOOD</td>\n",
              "      <td>CITY OF GREENWOOD</td>\n",
              "      <td>business entity</td>\n",
              "    </tr>\n",
              "  </tbody>\n",
              "</table>\n",
              "</div>\n",
              "      <button class=\"colab-df-convert\" onclick=\"convertToInteractive('df-5100b02f-8145-4fbd-ab58-529f3be0a366')\"\n",
              "              title=\"Convert this dataframe to an interactive table.\"\n",
              "              style=\"display:none;\">\n",
              "        \n",
              "  <svg xmlns=\"http://www.w3.org/2000/svg\" height=\"24px\"viewBox=\"0 0 24 24\"\n",
              "       width=\"24px\">\n",
              "    <path d=\"M0 0h24v24H0V0z\" fill=\"none\"/>\n",
              "    <path d=\"M18.56 5.44l.94 2.06.94-2.06 2.06-.94-2.06-.94-.94-2.06-.94 2.06-2.06.94zm-11 1L8.5 8.5l.94-2.06 2.06-.94-2.06-.94L8.5 2.5l-.94 2.06-2.06.94zm10 10l.94 2.06.94-2.06 2.06-.94-2.06-.94-.94-2.06-.94 2.06-2.06.94z\"/><path d=\"M17.41 7.96l-1.37-1.37c-.4-.4-.92-.59-1.43-.59-.52 0-1.04.2-1.43.59L10.3 9.45l-7.72 7.72c-.78.78-.78 2.05 0 2.83L4 21.41c.39.39.9.59 1.41.59.51 0 1.02-.2 1.41-.59l7.78-7.78 2.81-2.81c.8-.78.8-2.07 0-2.86zM5.41 20L4 18.59l7.72-7.72 1.47 1.35L5.41 20z\"/>\n",
              "  </svg>\n",
              "      </button>\n",
              "      \n",
              "  <style>\n",
              "    .colab-df-container {\n",
              "      display:flex;\n",
              "      flex-wrap:wrap;\n",
              "      gap: 12px;\n",
              "    }\n",
              "\n",
              "    .colab-df-convert {\n",
              "      background-color: #E8F0FE;\n",
              "      border: none;\n",
              "      border-radius: 50%;\n",
              "      cursor: pointer;\n",
              "      display: none;\n",
              "      fill: #1967D2;\n",
              "      height: 32px;\n",
              "      padding: 0 0 0 0;\n",
              "      width: 32px;\n",
              "    }\n",
              "\n",
              "    .colab-df-convert:hover {\n",
              "      background-color: #E2EBFA;\n",
              "      box-shadow: 0px 1px 2px rgba(60, 64, 67, 0.3), 0px 1px 3px 1px rgba(60, 64, 67, 0.15);\n",
              "      fill: #174EA6;\n",
              "    }\n",
              "\n",
              "    [theme=dark] .colab-df-convert {\n",
              "      background-color: #3B4455;\n",
              "      fill: #D2E3FC;\n",
              "    }\n",
              "\n",
              "    [theme=dark] .colab-df-convert:hover {\n",
              "      background-color: #434B5C;\n",
              "      box-shadow: 0px 1px 3px 1px rgba(0, 0, 0, 0.15);\n",
              "      filter: drop-shadow(0px 1px 2px rgba(0, 0, 0, 0.3));\n",
              "      fill: #FFFFFF;\n",
              "    }\n",
              "  </style>\n",
              "\n",
              "      <script>\n",
              "        const buttonEl =\n",
              "          document.querySelector('#df-5100b02f-8145-4fbd-ab58-529f3be0a366 button.colab-df-convert');\n",
              "        buttonEl.style.display =\n",
              "          google.colab.kernel.accessAllowed ? 'block' : 'none';\n",
              "\n",
              "        async function convertToInteractive(key) {\n",
              "          const element = document.querySelector('#df-5100b02f-8145-4fbd-ab58-529f3be0a366');\n",
              "          const dataTable =\n",
              "            await google.colab.kernel.invokeFunction('convertToInteractive',\n",
              "                                                     [key], {});\n",
              "          if (!dataTable) return;\n",
              "\n",
              "          const docLinkHtml = 'Like what you see? Visit the ' +\n",
              "            '<a target=\"_blank\" href=https://colab.research.google.com/notebooks/data_table.ipynb>data table notebook</a>'\n",
              "            + ' to learn more about interactive tables.';\n",
              "          element.innerHTML = '';\n",
              "          dataTable['output_type'] = 'display_data';\n",
              "          await google.colab.output.renderOutput(dataTable, element);\n",
              "          const docLink = document.createElement('div');\n",
              "          docLink.innerHTML = docLinkHtml;\n",
              "          element.appendChild(docLink);\n",
              "        }\n",
              "      </script>\n",
              "    </div>\n",
              "  </div>\n",
              "  "
            ],
            "text/plain": [
              "  owner_std1_first_name  ... owner_std1_entity_type\n",
              "0                  JOHN  ...                 person\n",
              "1                  ALAN  ...                 person\n",
              "2                JOSEPH  ...                 person\n",
              "3                LOKESH  ...        business entity\n",
              "4                   NaN  ...        business entity\n",
              "\n",
              "[5 rows x 4 columns]"
            ]
          },
          "metadata": {},
          "execution_count": 32
        }
      ]
    },
    {
      "cell_type": "code",
      "source": [
        "#Hightlight NaN Values in the DataFrame\n",
        "#drp_df.style.applymap(nul_color = 'red')"
      ],
      "metadata": {
        "id": "oyfmee0MOGHS"
      },
      "execution_count": 34,
      "outputs": []
    },
    {
      "cell_type": "code",
      "source": [
        "#Rearrange columns \n",
        "drp_df.loc[:,['owner_std_name1_full','owner_std1_first_name','owner_std1_last_name','owner_std1_entity_type']]\n",
        "index_ = drp_df.set_index('owner_std_name1_full').sort_values(by = 'owner_std_name1_full', ascending= True)\n",
        "index_"
      ],
      "metadata": {
        "id": "h5nIBO3vaEDM",
        "outputId": "162129cc-bad6-4954-f588-19732058f316",
        "colab": {
          "base_uri": "https://localhost:8080/",
          "height": 640
        }
      },
      "execution_count": 96,
      "outputs": [
        {
          "output_type": "execute_result",
          "data": {
            "text/html": [
              "\n",
              "  <div id=\"df-911427a4-19ab-433d-a549-efc722d5ca60\">\n",
              "    <div class=\"colab-df-container\">\n",
              "      <div>\n",
              "<style scoped>\n",
              "    .dataframe tbody tr th:only-of-type {\n",
              "        vertical-align: middle;\n",
              "    }\n",
              "\n",
              "    .dataframe tbody tr th {\n",
              "        vertical-align: top;\n",
              "    }\n",
              "\n",
              "    .dataframe thead th {\n",
              "        text-align: right;\n",
              "    }\n",
              "</style>\n",
              "<table border=\"1\" class=\"dataframe\">\n",
              "  <thead>\n",
              "    <tr style=\"text-align: right;\">\n",
              "      <th></th>\n",
              "      <th>owner_std1_first_name</th>\n",
              "      <th>owner_std1_last_name</th>\n",
              "      <th>owner_std1_entity_type</th>\n",
              "    </tr>\n",
              "    <tr>\n",
              "      <th>owner_std_name1_full</th>\n",
              "      <th></th>\n",
              "      <th></th>\n",
              "      <th></th>\n",
              "    </tr>\n",
              "  </thead>\n",
              "  <tbody>\n",
              "    <tr>\n",
              "      <th>115 DOBBIN LLC</th>\n",
              "      <td>115 DOBBIN LLC</td>\n",
              "      <td>115 DOBBIN LLC</td>\n",
              "      <td>business entity</td>\n",
              "    </tr>\n",
              "    <tr>\n",
              "      <th>3255 TAMIAMI TRAIL LLC</th>\n",
              "      <td>NaN</td>\n",
              "      <td>3255 TAMIAMI TRAIL LLC</td>\n",
              "      <td>business entity</td>\n",
              "    </tr>\n",
              "    <tr>\n",
              "      <th>370 EAST 162 STREET LLC</th>\n",
              "      <td>NaN</td>\n",
              "      <td>370 EAST 162 STREET LLC</td>\n",
              "      <td>business entity</td>\n",
              "    </tr>\n",
              "    <tr>\n",
              "      <th>8000 DEL DONORE HOMEOWNERS ASSOCIATION INC</th>\n",
              "      <td>NaN</td>\n",
              "      <td>8000 DEL DONORE HOMEOWNERS ASSOCIATION INC</td>\n",
              "      <td>business entity</td>\n",
              "    </tr>\n",
              "    <tr>\n",
              "      <th>993 JOHNNIE DODDS LLC</th>\n",
              "      <td>NaN</td>\n",
              "      <td>993 JOHNNIE DODDS LLC</td>\n",
              "      <td>person</td>\n",
              "    </tr>\n",
              "    <tr>\n",
              "      <th>...</th>\n",
              "      <td>...</td>\n",
              "      <td>...</td>\n",
              "      <td>...</td>\n",
              "    </tr>\n",
              "    <tr>\n",
              "      <th>WILLIAMS MAXIE D</th>\n",
              "      <td>MAXIE</td>\n",
              "      <td>WILLIAMS</td>\n",
              "      <td>person</td>\n",
              "    </tr>\n",
              "    <tr>\n",
              "      <th>WILLIAMSON ROBERT JEROME</th>\n",
              "      <td>ROBERT</td>\n",
              "      <td>WILLIAMSON</td>\n",
              "      <td>person</td>\n",
              "    </tr>\n",
              "    <tr>\n",
              "      <th>WILLSON JAMES A</th>\n",
              "      <td>JAMES</td>\n",
              "      <td>WILLSON</td>\n",
              "      <td>person</td>\n",
              "    </tr>\n",
              "    <tr>\n",
              "      <th>WRI HILLTOP VILLAGE LLC</th>\n",
              "      <td>NaN</td>\n",
              "      <td>WRI HILLTOP VILLAGE LLC</td>\n",
              "      <td>business entity</td>\n",
              "    </tr>\n",
              "    <tr>\n",
              "      <th>ZAMBRANO MARIA G</th>\n",
              "      <td>MARIA</td>\n",
              "      <td>ZAMBRANO</td>\n",
              "      <td>person</td>\n",
              "    </tr>\n",
              "  </tbody>\n",
              "</table>\n",
              "<p>275 rows × 3 columns</p>\n",
              "</div>\n",
              "      <button class=\"colab-df-convert\" onclick=\"convertToInteractive('df-911427a4-19ab-433d-a549-efc722d5ca60')\"\n",
              "              title=\"Convert this dataframe to an interactive table.\"\n",
              "              style=\"display:none;\">\n",
              "        \n",
              "  <svg xmlns=\"http://www.w3.org/2000/svg\" height=\"24px\"viewBox=\"0 0 24 24\"\n",
              "       width=\"24px\">\n",
              "    <path d=\"M0 0h24v24H0V0z\" fill=\"none\"/>\n",
              "    <path d=\"M18.56 5.44l.94 2.06.94-2.06 2.06-.94-2.06-.94-.94-2.06-.94 2.06-2.06.94zm-11 1L8.5 8.5l.94-2.06 2.06-.94-2.06-.94L8.5 2.5l-.94 2.06-2.06.94zm10 10l.94 2.06.94-2.06 2.06-.94-2.06-.94-.94-2.06-.94 2.06-2.06.94z\"/><path d=\"M17.41 7.96l-1.37-1.37c-.4-.4-.92-.59-1.43-.59-.52 0-1.04.2-1.43.59L10.3 9.45l-7.72 7.72c-.78.78-.78 2.05 0 2.83L4 21.41c.39.39.9.59 1.41.59.51 0 1.02-.2 1.41-.59l7.78-7.78 2.81-2.81c.8-.78.8-2.07 0-2.86zM5.41 20L4 18.59l7.72-7.72 1.47 1.35L5.41 20z\"/>\n",
              "  </svg>\n",
              "      </button>\n",
              "      \n",
              "  <style>\n",
              "    .colab-df-container {\n",
              "      display:flex;\n",
              "      flex-wrap:wrap;\n",
              "      gap: 12px;\n",
              "    }\n",
              "\n",
              "    .colab-df-convert {\n",
              "      background-color: #E8F0FE;\n",
              "      border: none;\n",
              "      border-radius: 50%;\n",
              "      cursor: pointer;\n",
              "      display: none;\n",
              "      fill: #1967D2;\n",
              "      height: 32px;\n",
              "      padding: 0 0 0 0;\n",
              "      width: 32px;\n",
              "    }\n",
              "\n",
              "    .colab-df-convert:hover {\n",
              "      background-color: #E2EBFA;\n",
              "      box-shadow: 0px 1px 2px rgba(60, 64, 67, 0.3), 0px 1px 3px 1px rgba(60, 64, 67, 0.15);\n",
              "      fill: #174EA6;\n",
              "    }\n",
              "\n",
              "    [theme=dark] .colab-df-convert {\n",
              "      background-color: #3B4455;\n",
              "      fill: #D2E3FC;\n",
              "    }\n",
              "\n",
              "    [theme=dark] .colab-df-convert:hover {\n",
              "      background-color: #434B5C;\n",
              "      box-shadow: 0px 1px 3px 1px rgba(0, 0, 0, 0.15);\n",
              "      filter: drop-shadow(0px 1px 2px rgba(0, 0, 0, 0.3));\n",
              "      fill: #FFFFFF;\n",
              "    }\n",
              "  </style>\n",
              "\n",
              "      <script>\n",
              "        const buttonEl =\n",
              "          document.querySelector('#df-911427a4-19ab-433d-a549-efc722d5ca60 button.colab-df-convert');\n",
              "        buttonEl.style.display =\n",
              "          google.colab.kernel.accessAllowed ? 'block' : 'none';\n",
              "\n",
              "        async function convertToInteractive(key) {\n",
              "          const element = document.querySelector('#df-911427a4-19ab-433d-a549-efc722d5ca60');\n",
              "          const dataTable =\n",
              "            await google.colab.kernel.invokeFunction('convertToInteractive',\n",
              "                                                     [key], {});\n",
              "          if (!dataTable) return;\n",
              "\n",
              "          const docLinkHtml = 'Like what you see? Visit the ' +\n",
              "            '<a target=\"_blank\" href=https://colab.research.google.com/notebooks/data_table.ipynb>data table notebook</a>'\n",
              "            + ' to learn more about interactive tables.';\n",
              "          element.innerHTML = '';\n",
              "          dataTable['output_type'] = 'display_data';\n",
              "          await google.colab.output.renderOutput(dataTable, element);\n",
              "          const docLink = document.createElement('div');\n",
              "          docLink.innerHTML = docLinkHtml;\n",
              "          element.appendChild(docLink);\n",
              "        }\n",
              "      </script>\n",
              "    </div>\n",
              "  </div>\n",
              "  "
            ],
            "text/plain": [
              "                                           owner_std1_first_name  ... owner_std1_entity_type\n",
              "owner_std_name1_full                                              ...                       \n",
              "115 DOBBIN LLC                                    115 DOBBIN LLC  ...        business entity\n",
              "3255 TAMIAMI TRAIL LLC                                       NaN  ...        business entity\n",
              "370 EAST 162 STREET LLC                                      NaN  ...        business entity\n",
              "8000 DEL DONORE HOMEOWNERS ASSOCIATION INC                   NaN  ...        business entity\n",
              "993 JOHNNIE DODDS LLC                                        NaN  ...                 person\n",
              "...                                                          ...  ...                    ...\n",
              "WILLIAMS MAXIE D                                           MAXIE  ...                 person\n",
              "WILLIAMSON ROBERT JEROME                                  ROBERT  ...                 person\n",
              "WILLSON JAMES A                                            JAMES  ...                 person\n",
              "WRI HILLTOP VILLAGE LLC                                      NaN  ...        business entity\n",
              "ZAMBRANO MARIA G                                           MARIA  ...                 person\n",
              "\n",
              "[275 rows x 3 columns]"
            ]
          },
          "metadata": {},
          "execution_count": 96
        }
      ]
    },
    {
      "cell_type": "code",
      "source": [
        "def color_groups(new_df):\n",
        "  \n",
        "  colors = ['red','black']\n",
        "  x = index_.copy()\n",
        "  names = list(x['owner_std1_first_name'].isnull())\n",
        "  i = 0\n",
        "\n",
        "  for name in names: \n",
        "    style = f'background-color: { colors[i]}'\n",
        "    x.loc[x['owner_std1_first_name']== name, :] = style\n",
        "    i = not i\n",
        "\n",
        "  return x\n",
        "\n",
        "color_df = new_df.reset_index().style.applymap(color_groups)\n",
        "print(color_df.render())"
      ],
      "metadata": {
        "id": "qdw_9WZSmDpv"
      },
      "execution_count": null,
      "outputs": []
    },
    {
      "cell_type": "markdown",
      "source": [
        "Q3. \n",
        "\n",
        "---\n",
        "\n",
        "\n",
        "What sort of information is available on the NY Department of State website? Prepare some\n",
        "notes on the data provided, what you think it means, and how it might be useful. (15 min)\n",
        "\n",
        "In the NYS web, we found information such as Entity names, County, Entity Type, name history that could help us unlock CRE insights to assit internal and external user with accurate and updated data. "
      ],
      "metadata": {
        "id": "N8D01VsAotpu"
      }
    },
    {
      "cell_type": "markdown",
      "source": [
        "Q4. \n",
        "\n",
        "---\n",
        "\n",
        "\n",
        "Pick out a few properties with owners that you think you can find on the NY site. Create a new tab with the property IDs and owner info for the selected properties. Search for the owners on the NY site, and record info about what you find, if anything. (30 min)"
      ],
      "metadata": {
        "id": "Q6eImw6Ra_mz"
      }
    },
    {
      "cell_type": "code",
      "source": [
        "#To search for properties on the NY site we can use python to request and web scraping.\n",
        "#The code below correlates with serchValue and our owner_std_name1_full. \n",
        "\n",
        "searchValue = 'Blue Rock Assets LLC'\n",
        "searchUrl = \"https://apps.dos.ny.gov/PublicInquiryWeb/api/PublicInquiry/GetComplexSearchMatchingEntities\"\n",
        "payload = {\n",
        "    \"searchValue\": searchValue,\n",
        "    \"searchByTypeIndicator\": \"EntityName\",\n",
        "    \"searchExpressionIndicator\": \"BeginsWith\",\n",
        "    \"entityStatusIndicator\": \"AllStatuses\",\n",
        "    \"entityTypeIndicator\": [\n",
        "        \"Corporation\",\n",
        "        \"LimitedLiabilityCompany\",\n",
        "        \"LimitedPartnership\",\n",
        "        \"LimitedLiabilityPartnership\"\n",
        "    ],\n",
        "    \"listPaginationInfo\": {\n",
        "        \"listStartRecord\": 1,\n",
        "        \"listEndRecord\": 50\n",
        "    }\n",
        "}\n",
        "req = requests.post(searchUrl, json=payload)\n",
        "try: \n",
        "  data = req.json()\n",
        "except IOError: \n",
        "  print(\"Unable to load data\")\n",
        "\n",
        "else: \n",
        "  print('The file load successfully ')\n",
        "dosId = data[\"entitySearchResultList\"][0][\"dosID\"]\n",
        "print('DOS ID:', dosId)\n",
        "print('Thus, this information corretate with our property DataFrame')"
      ],
      "metadata": {
        "id": "jdSf9RftlEvU",
        "outputId": "483cf4fe-5bff-46de-8908-37139cfc4080",
        "colab": {
          "base_uri": "https://localhost:8080/"
        }
      },
      "execution_count": 113,
      "outputs": [
        {
          "output_type": "stream",
          "name": "stdout",
          "text": [
            "The file load successfully \n",
            "DOS ID: 4522164\n",
            "Thus, this information corretate with our property DataFrame\n"
          ]
        }
      ]
    },
    {
      "cell_type": "code",
      "source": [
        "#Properti 1= Blue Rock Assets\n",
        "getEntityByIdUrl = \"https://apps.dos.ny.gov/PublicInquiryWeb/api/PublicInquiry/GetEntityRecordByID\"\n",
        "entityPayload = {\n",
        "      \"SearchID\": dosId,\n",
        "      \"AssumedNameFlag\": \"False \"\n",
        "  }\n",
        "\n",
        "reqEntity = requests.post(getEntityByIdUrl, json=entityPayload)\n",
        "print(reqEntity.json())"
      ],
      "metadata": {
        "id": "G2OkklAvhwkE",
        "outputId": "62ff91be-8245-438a-98c1-cfff14ddc5ef",
        "colab": {
          "base_uri": "https://localhost:8080/"
        }
      },
      "execution_count": 72,
      "outputs": [
        {
          "output_type": "stream",
          "name": "stdout",
          "text": [
            "{'timestamp': '0001-01-01T00:00:00', 'requestStatus': 'Success', 'resultIndicator': 'EntityMatchFound', 'entityGeneralInfo': {'entityName': 'BLUE ROCK ASSETS LLC', 'dosID': '4522164', 'foreignLegalName': '', 'fictitiousName': '', 'entityType': 'DOMESTIC LIMITED LIABILITY COMPANY', 'durationDate': '', 'sectionofLaw': '203 LLC - LIMITED LIABILITY COMPANY LAW ', 'entityStatus': 'Active', 'dateOfInitialDosFiling': '2014-01-30T00:00:00', 'reasonForStatus': '', 'effectiveDateInitialFiling': '2014-01-30T00:00:00', 'inactiveDate': '', 'foreignFormationDate': '', 'statementStatus': 'PAST DUE DATE', 'county': 'Nassau', 'nextStatementDueDate': '2016-01-31T00:00:00', 'jurisdiction': 'New York, United States', 'nfpCategory': ''}, 'sopAddress': {'name': 'BLUE ROCK ASSETS LLC', 'address': {'streetAddress': 'PO BOX 231294', 'streetAddress1': 'PO BOX 231294', 'addressLine2': '', 'streetAddress2': '', 'city': 'GREAT NECK', 'state': 'NY', 'zipCode': '11021', 'zipPlus4': '', 'country': 'United States', 'countryCode': 'USA'}}, 'ceo': {'address': {}}, 'locationAddress': {'address': {'streetAddress': '', 'streetAddress1': '', 'addressLine2': '', 'streetAddress2': '', 'city': '', 'state': '  ', 'zipCode': '', 'zipPlus4': '', 'country': '', 'countryCode': ''}}, 'poExecAddress': {'address': {'streetAddress': '', 'streetAddress1': '', 'addressLine2': '', 'streetAddress2': '', 'city': '', 'state': '  ', 'zipCode': '', 'zipPlus4': '', 'country': '', 'countryCode': ''}}, 'registeredAgent': {'name': '', 'address': {'streetAddress': '', 'streetAddress1': '', 'addressLine2': '', 'streetAddress2': '', 'city': '', 'state': '  ', 'zipCode': '', 'zipPlus4': '', 'country': '', 'countryCode': ''}}, 'farmCorpFlag': False, 'latestDateDissolution': ''}\n"
          ]
        }
      ]
    },
    {
      "cell_type": "markdown",
      "source": [
        "Q5.\n",
        "\n",
        "---\n",
        "Any ideas on how we could find the owners of the property owners, e.g. the owner of \"Blue\n",
        "Rock Assets LLC\"? You may want to poke around the NY website, or check out similar websites\n",
        "for other states, or just take a few minutes to brainstorm. (15 min)\n",
        "\n",
        "I would still use open resorches like the NY side as well as the DOB side. As a project manager assistant I submited inspection or permit on the DOB Now (Department of Builds) this side has more details on the owners and property information. We can also use web scraping here using python. "
      ],
      "metadata": {
        "id": "dNit35hRVsRX"
      }
    }
  ]
}